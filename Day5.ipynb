{
 "cells": [
  {
   "cell_type": "code",
   "execution_count": 1,
   "id": "short-nudist",
   "metadata": {},
   "outputs": [],
   "source": [
    "cars = ['kia','benz','bmw','audi','maruti']"
   ]
  },
  {
   "cell_type": "code",
   "execution_count": 2,
   "id": "actual-trailer",
   "metadata": {},
   "outputs": [
    {
     "name": "stdout",
     "output_type": "stream",
     "text": [
      "['kia', 'benz', 'bmw', 'audi', 'maruti']\n"
     ]
    }
   ],
   "source": [
    "print(cars)"
   ]
  },
  {
   "cell_type": "code",
   "execution_count": 3,
   "id": "breeding-april",
   "metadata": {},
   "outputs": [
    {
     "name": "stdout",
     "output_type": "stream",
     "text": [
      "['audi', 'benz', 'bmw', 'kia', 'maruti']\n"
     ]
    }
   ],
   "source": [
    "print(sorted(cars))  #able to move to original order"
   ]
  },
  {
   "cell_type": "code",
   "execution_count": 4,
   "id": "sacred-oxford",
   "metadata": {},
   "outputs": [
    {
     "name": "stdout",
     "output_type": "stream",
     "text": [
      "['kia', 'benz', 'bmw', 'audi', 'maruti']\n"
     ]
    }
   ],
   "source": [
    "print(cars)"
   ]
  },
  {
   "cell_type": "code",
   "execution_count": 5,
   "id": "laden-klein",
   "metadata": {},
   "outputs": [],
   "source": [
    "cars.sort()  #permanent approach changes are fixed"
   ]
  },
  {
   "cell_type": "code",
   "execution_count": 6,
   "id": "downtown-locking",
   "metadata": {},
   "outputs": [
    {
     "name": "stdout",
     "output_type": "stream",
     "text": [
      "['audi', 'benz', 'bmw', 'kia', 'maruti']\n"
     ]
    }
   ],
   "source": [
    "print(cars)"
   ]
  },
  {
   "cell_type": "code",
   "execution_count": 7,
   "id": "painted-current",
   "metadata": {},
   "outputs": [],
   "source": [
    "#how to print list in rverse order"
   ]
  },
  {
   "cell_type": "code",
   "execution_count": 8,
   "id": "communist-count",
   "metadata": {},
   "outputs": [],
   "source": [
    "cars.reverse()  #changes are applied permanently"
   ]
  },
  {
   "cell_type": "code",
   "execution_count": 9,
   "id": "artificial-impression",
   "metadata": {},
   "outputs": [
    {
     "name": "stdout",
     "output_type": "stream",
     "text": [
      "['maruti', 'kia', 'bmw', 'benz', 'audi']\n"
     ]
    }
   ],
   "source": [
    "print(cars)"
   ]
  },
  {
   "cell_type": "code",
   "execution_count": 10,
   "id": "veterinary-vegetable",
   "metadata": {},
   "outputs": [],
   "source": [
    "#count the number of elements in a list??"
   ]
  },
  {
   "cell_type": "code",
   "execution_count": 12,
   "id": "suitable-member",
   "metadata": {},
   "outputs": [
    {
     "data": {
      "text/plain": [
       "5"
      ]
     },
     "execution_count": 12,
     "metadata": {},
     "output_type": "execute_result"
    }
   ],
   "source": [
    "len(cars)"
   ]
  },
  {
   "cell_type": "code",
   "execution_count": null,
   "id": "accompanied-hindu",
   "metadata": {},
   "outputs": [],
   "source": [
    "#slicing of lists"
   ]
  },
  {
   "cell_type": "code",
   "execution_count": 13,
   "id": "traditional-conversation",
   "metadata": {},
   "outputs": [],
   "source": [
    "students = ['nikhil','raj','rohan','surya','hameed','kumar']"
   ]
  },
  {
   "cell_type": "code",
   "execution_count": 16,
   "id": "psychological-defense",
   "metadata": {},
   "outputs": [],
   "source": [
    "#startvalue:stopvalue:stepcount=====>indexing"
   ]
  },
  {
   "cell_type": "raw",
   "id": "conservative-identifier",
   "metadata": {},
   "source": [
    "print(students[0:1])"
   ]
  },
  {
   "cell_type": "raw",
   "id": "plain-windows",
   "metadata": {},
   "source": []
  },
  {
   "cell_type": "code",
   "execution_count": 18,
   "id": "recreational-notification",
   "metadata": {},
   "outputs": [
    {
     "name": "stdout",
     "output_type": "stream",
     "text": [
      "['nikhil', 'raj']\n"
     ]
    }
   ],
   "source": [
    "print(students[0:2])"
   ]
  },
  {
   "cell_type": "code",
   "execution_count": 22,
   "id": "leading-benchmark",
   "metadata": {},
   "outputs": [
    {
     "name": "stdout",
     "output_type": "stream",
     "text": [
      "['rohan', 'surya']\n"
     ]
    }
   ],
   "source": [
    "print(students[2:4])"
   ]
  },
  {
   "cell_type": "code",
   "execution_count": 24,
   "id": "extensive-adolescent",
   "metadata": {},
   "outputs": [
    {
     "name": "stdout",
     "output_type": "stream",
     "text": [
      "['hameed', 'kumar']\n"
     ]
    }
   ],
   "source": [
    "print(students[4:6])"
   ]
  },
  {
   "cell_type": "code",
   "execution_count": 25,
   "id": "broke-worry",
   "metadata": {},
   "outputs": [
    {
     "name": "stdout",
     "output_type": "stream",
     "text": [
      "['nikhil', 'rohan', 'hameed']\n"
     ]
    }
   ],
   "source": [
    "print(students[0:6:2])"
   ]
  },
  {
   "cell_type": "code",
   "execution_count": 26,
   "id": "outstanding-hungarian",
   "metadata": {},
   "outputs": [
    {
     "name": "stdout",
     "output_type": "stream",
     "text": [
      "['nikhil', 'raj', 'rohan', 'surya', 'hameed', 'kumar']\n"
     ]
    }
   ],
   "source": [
    "print(students)"
   ]
  },
  {
   "cell_type": "code",
   "execution_count": null,
   "id": "portable-laugh",
   "metadata": {},
   "outputs": [],
   "source": []
  },
  {
   "cell_type": "code",
   "execution_count": null,
   "id": "conditional-korea",
   "metadata": {},
   "outputs": [],
   "source": []
  }
 ],
 "metadata": {
  "kernelspec": {
   "display_name": "Python 3",
   "language": "python",
   "name": "python3"
  },
  "language_info": {
   "codemirror_mode": {
    "name": "ipython",
    "version": 3
   },
   "file_extension": ".py",
   "mimetype": "text/x-python",
   "name": "python",
   "nbconvert_exporter": "python",
   "pygments_lexer": "ipython3",
   "version": "3.6.13"
  }
 },
 "nbformat": 4,
 "nbformat_minor": 5
}
